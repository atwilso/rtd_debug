{
 "cells": [
  {
   "cell_type": "markdown",
   "id": "24d75fbb",
   "metadata": {},
   "source": [
    "# Test Notebook"
   ]
  },
  {
   "cell_type": "markdown",
   "id": "8de54eb4",
   "metadata": {},
   "source": [
    "This notebook is a test to see if RTD's installation of nbsphinx works at all."
   ]
  },
  {
   "cell_type": "code",
   "execution_count": null,
   "id": "4396ac6a",
   "metadata": {},
   "outputs": [
    {
     "data": {
      "text/plain": [
       "15"
      ]
     },
     "execution_count": 1,
     "metadata": {},
     "output_type": "execute_result"
    }
   ],
   "source": [
    "# Single code cell just to see if it executes\n",
    "\n",
    "1 + 2 + 3 + 4 + 5"
   ]
  }
 ],
 "metadata": {
  "kernelspec": {
   "display_name": "base",
   "language": "python",
   "name": "python3"
  },
  "language_info": {
   "codemirror_mode": {
    "name": "ipython",
    "version": 3
   },
   "file_extension": ".py",
   "mimetype": "text/x-python",
   "name": "python",
   "nbconvert_exporter": "python",
   "pygments_lexer": "ipython3",
   "version": "3.12.7"
  }
 },
 "nbformat": 4,
 "nbformat_minor": 5
}
